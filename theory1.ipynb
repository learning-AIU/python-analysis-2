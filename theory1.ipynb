{
  "nbformat": 4,
  "nbformat_minor": 0,
  "metadata": {
    "colab": {
      "provenance": []
    },
    "kernelspec": {
      "name": "python3",
      "display_name": "Python 3"
    }
  },
  "cells": [
    {
      "cell_type": "markdown",
      "metadata": {
        "id": "moIM-S1g7SKx"
      },
      "source": [
        "# Курс «Python для анализа данных»\n",
        "\n",
        "---\n",
        "#2.1 Быстрое введение. Синтаксические основы языка Python"
      ]
    },
    {
      "cell_type": "markdown",
      "metadata": {
        "id": "QZ1Arpnj7p_N"
      },
      "source": [
        "## Где мы сейчас?\n"
      ]
    },
    {
      "cell_type": "markdown",
      "metadata": {
        "id": "J9A06fP5j1vS"
      },
      "source": [
        "<html>\n",
        " <head>\n",
        "  <meta charset=\"utf-8\">\n",
        " </head>\n",
        " <body>\n",
        "  <ul>\n",
        "    <li>1. Введение в анализ данных и разработку на языке Python </li> <!-2.1->\n",
        "    <li>2. <strong>Основы языка</strong> <i><- В этой главе!</i>\n",
        "     <ul>\n",
        "      <li><strong>2.1 Быстрое введение. Синтаксические основы языка Python</strong> <i><- В этой части!</i></li>\n",
        "      <li>2.2 Типы данных. Идентификаторы и ключевые слова. Целочисленные типы и числа с плавающей запятой. Строки</li>\n",
        "      <li>2.3 Типы коллекций. Последовательности, множества, отображения</li>\n",
        "      <li>2.4 Управляющие структуры. Условные ветвления и циклы </li>\n",
        "      <li>2.5 Функции</li>\n",
        "      <li>2.6 Модули</li>\n",
        "      <li>2.7 Обработка исключений</li>\n",
        "      <li>2.8 Объектно-ориентированное программирование</li>\n",
        "      <li>2.9 Обзор стандартной библиотеки языка Python</li>\n",
        "     </ul>\n",
        "    </li>   \n",
        "  </ul>\n",
        " </body>\n",
        "</html>"
      ]
    },
    {
      "cell_type": "markdown",
      "metadata": {
        "id": "z1oJmp_4Po8K"
      },
      "source": [
        "## Краткий обзор занятия\n"
      ]
    },
    {
      "cell_type": "markdown",
      "metadata": {
        "id": "7X4Wlpraj7Yw"
      },
      "source": [
        "Рассматриваем восемь ключевых составляющих языка Python и его синтаксические основы."
      ]
    },
    {
      "cell_type": "markdown",
      "metadata": {
        "id": "NhfVXiTGAkND"
      },
      "source": [
        "## Ключевые слова, понятия и выражения\n",
        "\n",
        "\n",
        "\n",
        "\n"
      ]
    },
    {
      "cell_type": "markdown",
      "metadata": {
        "id": "ixnuL5V2rZtz"
      },
      "source": [
        "*   типы данных;\n",
        "*   ссылки на объекты;\n",
        "*   коллекции данных;\n",
        "*   логические операции;\n",
        "*   инструкции управления потоком выполнения;\n",
        "*   арифметические операторы;\n",
        "*   ввод/вывод;\n",
        "*   создание функций."
      ]
    },
    {
      "cell_type": "markdown",
      "metadata": {
        "id": "2lFBeeLHjcc7"
      },
      "source": [
        "## Материал"
      ]
    },
    {
      "cell_type": "markdown",
      "metadata": {
        "id": "nElOX0cEh7Zy"
      },
      "source": [
        "### 1. Типы данных"
      ]
    },
    {
      "cell_type": "markdown",
      "metadata": {
        "id": "WS39Mw8o1RvA"
      },
      "source": [
        "Все языки программирования так или иначе работают с данными. В Python тоже встречаются разные типы данных."
      ]
    },
    {
      "cell_type": "code",
      "metadata": {
        "id": "WcampRIpiAJc",
        "colab": {
          "base_uri": "https://localhost:8080/",
          "height": 35
        },
        "outputId": "15fa1ef5-f617-469c-c482-2d595c4db59e"
      },
      "source": [
        "# Целочисленный тип \n",
        "7"
      ],
      "execution_count": null,
      "outputs": [
        {
          "output_type": "execute_result",
          "data": {
            "text/plain": [
              "7"
            ]
          },
          "metadata": {
            "tags": []
          },
          "execution_count": 1
        }
      ]
    },
    {
      "cell_type": "code",
      "metadata": {
        "id": "VA-C_D-Qvyf4",
        "colab": {
          "base_uri": "https://localhost:8080/",
          "height": 35
        },
        "outputId": "e3733341-0146-4042-ed26-88c91ff99ec3"
      },
      "source": [
        "# Строковый тип\n",
        "'Hello!'"
      ],
      "execution_count": null,
      "outputs": [
        {
          "output_type": "execute_result",
          "data": {
            "text/plain": [
              "'Hello!'"
            ]
          },
          "metadata": {
            "tags": []
          },
          "execution_count": 2
        }
      ]
    },
    {
      "cell_type": "code",
      "metadata": {
        "id": "Ytyn0o5iv6eM",
        "colab": {
          "base_uri": "https://localhost:8080/",
          "height": 35
        },
        "outputId": "9bfd1f8a-2aed-48c5-8787-26955730a012"
      },
      "source": [
        "# Числа с плавающей запятой\n",
        "2.75"
      ],
      "execution_count": null,
      "outputs": [
        {
          "output_type": "execute_result",
          "data": {
            "text/plain": [
              "2.75"
            ]
          },
          "metadata": {
            "tags": []
          },
          "execution_count": 3
        }
      ]
    },
    {
      "cell_type": "code",
      "metadata": {
        "id": "fH9Dq5D-wARw",
        "colab": {
          "base_uri": "https://localhost:8080/",
          "height": 35
        },
        "outputId": "3a2eeca6-727c-48ed-c644-7395174219a0"
      },
      "source": [
        "# Большие числа\n",
        "2**275"
      ],
      "execution_count": null,
      "outputs": [
        {
          "output_type": "execute_result",
          "data": {
            "text/plain": [
              "60708402882054033466233184588234965832575213720379360039119137804340758912662765568"
            ]
          },
          "metadata": {
            "tags": []
          },
          "execution_count": 4
        }
      ]
    },
    {
      "cell_type": "code",
      "metadata": {
        "id": "yrVejlDlwRSI",
        "colab": {
          "base_uri": "https://localhost:8080/"
        },
        "outputId": "a5d3caaf-ae92-403c-dbdb-7046df52eb21"
      },
      "source": [
        "# Преобразование типов\n",
        "print(int('75'))\n",
        "print(float('7.5'))"
      ],
      "execution_count": null,
      "outputs": [
        {
          "output_type": "stream",
          "name": "stdout",
          "text": [
            "75\n",
            "7.5\n"
          ]
        }
      ]
    },
    {
      "cell_type": "markdown",
      "metadata": {
        "id": "pjiCIxHh18Df"
      },
      "source": [
        "Для проверки типа данных используют функцию `type`. Данные, тип которых мы хотим узнать, помещаем в скобки."
      ]
    },
    {
      "cell_type": "code",
      "metadata": {
        "id": "pXM5efbdCWBZ",
        "colab": {
          "base_uri": "https://localhost:8080/",
          "height": 35
        },
        "outputId": "2fdc7da2-d5db-4492-f3d1-782d1141c429"
      },
      "source": [
        "type(2.75)"
      ],
      "execution_count": null,
      "outputs": [
        {
          "output_type": "execute_result",
          "data": {
            "text/plain": [
              "float"
            ]
          },
          "metadata": {
            "tags": []
          },
          "execution_count": 9
        }
      ]
    },
    {
      "cell_type": "markdown",
      "metadata": {
        "id": "XKfIFAZAiA3q"
      },
      "source": [
        "### 2. Ссылки на объекты"
      ]
    },
    {
      "cell_type": "markdown",
      "metadata": {
        "id": "HJrTbj7O2QYV"
      },
      "source": [
        "В Python можно присвоить ссылку любым объектам. Для этого нужно указать имя ссылки, по которой мы будем обращаться к нашим данным и после знака равно записать данные, на которые она должна ссылаться."
      ]
    },
    {
      "cell_type": "markdown",
      "metadata": {
        "id": "tx3BwWQ1wyzO"
      },
      "source": [
        "Ссылки:\n",
        "![alt text](https://drive.google.com/uc?id=1oWnqliy0b2zUYHFfyMVf6U5y6gpRKAch)"
      ]
    },
    {
      "cell_type": "code",
      "metadata": {
        "id": "X2bwo8T4iF-M",
        "colab": {
          "base_uri": "https://localhost:8080/",
          "height": 54
        },
        "outputId": "07c32f1b-0160-4d55-aee9-88bf476ba956"
      },
      "source": [
        "a = 7\n",
        "b = a\n",
        "print(a)\n",
        "print(b)"
      ],
      "execution_count": null,
      "outputs": [
        {
          "output_type": "stream",
          "text": [
            "7\n",
            "7\n"
          ],
          "name": "stdout"
        }
      ]
    },
    {
      "cell_type": "markdown",
      "metadata": {
        "id": "unhYwfI727a2"
      },
      "source": [
        "Мы можем поменять ссылку с одних данных на другие. Например, раньше, **a** и **b** ссылались на число **7**. Сделаем так, чтобы **a** начала ссылаться на слово **liberty**. Теперь, когда мы выводим на экран переменную **a**, Python выводит новые данные, на которые она ссылается. При этом переменная **b** продолжает ссылаться на число **7**."
      ]
    },
    {
      "cell_type": "code",
      "metadata": {
        "id": "RNQdH4cSxuJV",
        "colab": {
          "base_uri": "https://localhost:8080/",
          "height": 54
        },
        "outputId": "6f98c53b-d2ab-44a6-95dc-3604f2c8d2fd"
      },
      "source": [
        "a = 'liberty'\n",
        "print(a)\n",
        "print(b)"
      ],
      "execution_count": null,
      "outputs": [
        {
          "output_type": "stream",
          "text": [
            "liberty\n",
            "7\n"
          ],
          "name": "stdout"
        }
      ]
    },
    {
      "cell_type": "markdown",
      "metadata": {
        "id": "BFgPYGev3m8K"
      },
      "source": [
        "Отличительное свойство языка программирования Python в том, что переменная не принимает тот тип данных, на который она ссылается. Это явление называют **динамической типизацией**."
      ]
    },
    {
      "cell_type": "code",
      "metadata": {
        "id": "_IBrUFBcyPqZ",
        "colab": {
          "base_uri": "https://localhost:8080/",
          "height": 54
        },
        "outputId": "4b9e3688-e83c-46b4-efa7-67c4a8a23038"
      },
      "source": [
        "# Отсутствие строгой типизации\n",
        "a = 7\n",
        "print(type(a))\n",
        "a = 'Hello'\n",
        "print(type(a))"
      ],
      "execution_count": null,
      "outputs": [
        {
          "output_type": "stream",
          "text": [
            "<class 'int'>\n",
            "<class 'str'>\n"
          ],
          "name": "stdout"
        }
      ]
    },
    {
      "cell_type": "markdown",
      "metadata": {
        "id": "UDkD3TJriGhB"
      },
      "source": [
        "### 3. Коллекции данных"
      ]
    },
    {
      "cell_type": "markdown",
      "metadata": {
        "id": "Ts0pyPRc34WY"
      },
      "source": [
        "Довольно часто нам приходится одновременно хранить не одно-два значения, а сотни и даже тысячи. Для этого в Python существуют **коллекции**. Они бывают изменяемыми и неизменяемыми."
      ]
    },
    {
      "cell_type": "markdown",
      "metadata": {
        "id": "J6ZPG_1d4X3n"
      },
      "source": [
        "Первый объект — это `tuple` (или **кортеж**). Это неизменяемая коллекция, которую мы позже рассмотрим."
      ]
    },
    {
      "cell_type": "code",
      "metadata": {
        "id": "m4u9YkgIiJr2",
        "colab": {
          "base_uri": "https://localhost:8080/",
          "height": 54
        },
        "outputId": "59f6f251-2dd0-41e2-a898-c8a6221a0b45"
      },
      "source": [
        "# Неизменяемый тип данных\n",
        "tp = (1, 2, 3)\n",
        "print(type(tp))\n",
        "print(tp)"
      ],
      "execution_count": null,
      "outputs": [
        {
          "output_type": "stream",
          "text": [
            "<class 'tuple'>\n",
            "(1, 2, 3)\n"
          ],
          "name": "stdout"
        }
      ]
    },
    {
      "cell_type": "markdown",
      "metadata": {
        "id": "FZm1Nxre4lg9"
      },
      "source": [
        "Следующая коллекция — это `list` (**список**). Это изменяемая коллекция."
      ]
    },
    {
      "cell_type": "code",
      "metadata": {
        "id": "pmBhgQWGy2ZW",
        "colab": {
          "base_uri": "https://localhost:8080/",
          "height": 54
        },
        "outputId": "0e40efb7-f7e7-4544-f7a1-ebf4d45f12d6"
      },
      "source": [
        "# Изменяемый тип данных\n",
        "lst = [1, 2, 3]\n",
        "print(type(lst))\n",
        "print(lst)"
      ],
      "execution_count": null,
      "outputs": [
        {
          "output_type": "stream",
          "text": [
            "<class 'list'>\n",
            "[1, 2, 3]\n"
          ],
          "name": "stdout"
        }
      ]
    },
    {
      "cell_type": "markdown",
      "metadata": {
        "id": "mMR5oSlk4usu"
      },
      "source": [
        "Доступ к элементам можно получить с помощью индексов. В программировании индексацию начинают с нуля. Попробуем заменить нулевой элемент в кортеже:"
      ]
    },
    {
      "cell_type": "code",
      "metadata": {
        "id": "b8EVAXySy_DM",
        "colab": {
          "base_uri": "https://localhost:8080/",
          "height": 209
        },
        "outputId": "c1defb39-4488-45d2-c0a6-6be51099bb07"
      },
      "source": [
        "print(tp[0])\n",
        "tp[0]=2\n"
      ],
      "execution_count": null,
      "outputs": [
        {
          "output_type": "stream",
          "text": [
            "1\n"
          ],
          "name": "stdout"
        },
        {
          "output_type": "error",
          "ename": "TypeError",
          "evalue": "ignored",
          "traceback": [
            "\u001b[0;31m---------------------------------------------------------------------------\u001b[0m",
            "\u001b[0;31mTypeError\u001b[0m                                 Traceback (most recent call last)",
            "\u001b[0;32m<ipython-input-15-6677d43e2b25>\u001b[0m in \u001b[0;36m<module>\u001b[0;34m()\u001b[0m\n\u001b[1;32m      1\u001b[0m \u001b[0mprint\u001b[0m\u001b[0;34m(\u001b[0m\u001b[0mtp\u001b[0m\u001b[0;34m[\u001b[0m\u001b[0;36m0\u001b[0m\u001b[0;34m]\u001b[0m\u001b[0;34m)\u001b[0m\u001b[0;34m\u001b[0m\u001b[0;34m\u001b[0m\u001b[0m\n\u001b[0;32m----> 2\u001b[0;31m \u001b[0mtp\u001b[0m\u001b[0;34m[\u001b[0m\u001b[0;36m0\u001b[0m\u001b[0;34m]\u001b[0m\u001b[0;34m=\u001b[0m\u001b[0;36m2\u001b[0m\u001b[0;34m\u001b[0m\u001b[0;34m\u001b[0m\u001b[0m\n\u001b[0m",
            "\u001b[0;31mTypeError\u001b[0m: 'tuple' object does not support item assignment"
          ]
        }
      ]
    },
    {
      "cell_type": "markdown",
      "metadata": {
        "id": "o1gsxkRt478X"
      },
      "source": [
        "Как видите, у нас это не получилось. Попробуем сделать то же самое со списком:"
      ]
    },
    {
      "cell_type": "code",
      "metadata": {
        "id": "m3RxjJFEzEuI",
        "colab": {
          "base_uri": "https://localhost:8080/",
          "height": 54
        },
        "outputId": "e5c343e5-7551-4acd-aa51-c98892c78241"
      },
      "source": [
        "print(lst[0])\n",
        "lst[0] = 2\n",
        "print(lst)"
      ],
      "execution_count": null,
      "outputs": [
        {
          "output_type": "stream",
          "text": [
            "1\n",
            "[2, 2, 3]\n"
          ],
          "name": "stdout"
        }
      ]
    },
    {
      "cell_type": "markdown",
      "metadata": {
        "id": "4ZuHsuqK5B09"
      },
      "source": [
        "Здесь мы уже можем изменить элементы списка и заменить их на любые значения."
      ]
    },
    {
      "cell_type": "markdown",
      "metadata": {
        "id": "lYExSbdp5Lzb"
      },
      "source": [
        "Довольно часто нам необходимо узнать, сколько значений лежит в нашей коллекции. Для этого используют функцию `len`. Она работает как с кортежами, так и со списками. Как мы позже узнаем, это не единственные коллекции, с которыми мы можем ее использовать."
      ]
    },
    {
      "cell_type": "code",
      "metadata": {
        "id": "RPK6wfwJzdNH",
        "colab": {
          "base_uri": "https://localhost:8080/",
          "height": 54
        },
        "outputId": "59be5f26-81c1-4258-cb96-808f2a6c7879"
      },
      "source": [
        "# Количество элементов коллекции\n",
        "print(len(tp))\n",
        "print(len(lst))"
      ],
      "execution_count": null,
      "outputs": [
        {
          "output_type": "stream",
          "text": [
            "3\n",
            "3\n"
          ],
          "name": "stdout"
        }
      ]
    },
    {
      "cell_type": "markdown",
      "metadata": {
        "id": "J77jWlec5i4o"
      },
      "source": [
        "Коллекции хранят не сами элементы, а ссылки на элементы, поэтому они могут даже одновременно хранить разные типы данных. Например, мы видим, что элемент с индексом 2 — это кортеж. Попробуем обратиться к нему:"
      ]
    },
    {
      "cell_type": "code",
      "metadata": {
        "id": "AbJ_Hp_-zr93",
        "colab": {
          "base_uri": "https://localhost:8080/",
          "height": 54
        },
        "outputId": "f531b521-345b-4dd7-f0f8-13ab824ef6e3"
      },
      "source": [
        "# Разнотипные объекты в коллекциях данных\n",
        "lst = [1, 'two', (1,2,3)]\n",
        "print(lst)\n",
        "print(lst[2])"
      ],
      "execution_count": null,
      "outputs": [
        {
          "output_type": "stream",
          "text": [
            "[1, 'two', (1, 2, 3)]\n",
            "(1, 2, 3)\n"
          ],
          "name": "stdout"
        }
      ]
    },
    {
      "cell_type": "markdown",
      "metadata": {
        "id": "eH3Lalgx57gX"
      },
      "source": [
        "Как видите, при выводе этого элемента у нас действительно выводится кортеж."
      ]
    },
    {
      "cell_type": "markdown",
      "metadata": {
        "id": "vPZt_SiX6D-Z"
      },
      "source": [
        "Это не все возможности коллекций. Чуть позже мы еще вернемся к ним."
      ]
    },
    {
      "cell_type": "markdown",
      "metadata": {
        "id": "Lj_FRmjwiKVn"
      },
      "source": [
        "### 4. Логические операции"
      ]
    },
    {
      "cell_type": "markdown",
      "metadata": {
        "id": "Q1S_X-eL6VQ6"
      },
      "source": [
        "Еще один тип — **логические типы данных**. Они необходимы для конструкций ветвления, чтобы выполнять разные команды в зависимости от определенных условий."
      ]
    },
    {
      "cell_type": "markdown",
      "metadata": {
        "id": "0SRpcOvI6nxk"
      },
      "source": [
        "Первая операция — это сравнение. Она выглядит как двойное равно. Это очень важно: не путайте с операцией присваивания."
      ]
    },
    {
      "cell_type": "code",
      "metadata": {
        "id": "2J6SiDZH0MG4",
        "colab": {
          "base_uri": "https://localhost:8080/",
          "height": 35
        },
        "outputId": "8e7a63e7-6675-4cb4-a658-0a40c64152f1"
      },
      "source": [
        "a = 2\n",
        "b = 3\n",
        "a == b"
      ],
      "execution_count": null,
      "outputs": [
        {
          "output_type": "execute_result",
          "data": {
            "text/plain": [
              "False"
            ]
          },
          "metadata": {
            "tags": []
          },
          "execution_count": 19
        }
      ]
    },
    {
      "cell_type": "markdown",
      "metadata": {
        "id": "c3yxu7fD67gp"
      },
      "source": [
        "Также мы можем сравнивать значения друг с другом:"
      ]
    },
    {
      "cell_type": "code",
      "metadata": {
        "id": "BdGov0YK0VV3",
        "colab": {
          "base_uri": "https://localhost:8080/",
          "height": 35
        },
        "outputId": "23518ed4-e569-4cb5-a9c3-71267ddb3bb3"
      },
      "source": [
        "a < b"
      ],
      "execution_count": null,
      "outputs": [
        {
          "output_type": "execute_result",
          "data": {
            "text/plain": [
              "True"
            ]
          },
          "metadata": {
            "tags": []
          },
          "execution_count": 20
        }
      ]
    },
    {
      "cell_type": "code",
      "metadata": {
        "id": "250sXvaT0W_V",
        "colab": {
          "base_uri": "https://localhost:8080/",
          "height": 35
        },
        "outputId": "74fe40cd-c962-4b74-8515-9f959fa4cb30"
      },
      "source": [
        "a <= b, a != b, a >= b, a > b"
      ],
      "execution_count": null,
      "outputs": [
        {
          "output_type": "execute_result",
          "data": {
            "text/plain": [
              "(True, True, False, False)"
            ]
          },
          "metadata": {
            "tags": []
          },
          "execution_count": 21
        }
      ]
    },
    {
      "cell_type": "code",
      "metadata": {
        "id": "pGot3Fio0fW4",
        "colab": {
          "base_uri": "https://localhost:8080/",
          "height": 35
        },
        "outputId": "da1d1a96-f668-47e1-8c73-80e77ddf96b5"
      },
      "source": [
        "-10 < a <= b"
      ],
      "execution_count": null,
      "outputs": [
        {
          "output_type": "execute_result",
          "data": {
            "text/plain": [
              "True"
            ]
          },
          "metadata": {
            "tags": []
          },
          "execution_count": 22
        }
      ]
    },
    {
      "cell_type": "markdown",
      "metadata": {
        "id": "OkJ052H4iS64"
      },
      "source": [
        "### 5. Инструкции управления потоком выполнения"
      ]
    },
    {
      "cell_type": "markdown",
      "metadata": {
        "id": "uTPrWTa37Bj2"
      },
      "source": [
        "Логические выражения необходимы для ветвления программ. Конструкции ветвления называют **конструкциями условия**. Сначала записываем ключевое слово `if`, затем условие, которое должно быть выполнено, ставим двоеточие. Затем пишем блок команд, который выполняется тогда, когда условие истинно. Все команды в этом блоке обязательно должны начинаться с отступа. Так Python понимает, что все они относятся к одному блоку и принадлежат условию.\n",
        "\n",
        "После того, как мы написали блок, который выполняется при истинном условии, с начала строки (на одном уровне с `if`) пишем слово `else` и ставим двоеточие. Дальше, также как и после условия, пишем блок команд, который должен выполняться, если условие в `if` — ложно. Этот блок необязателен. Его пишем в случаях, когда мы хотим, чтобы выполнялся блок команд при невыполнении условия в `if`."
      ]
    },
    {
      "cell_type": "code",
      "metadata": {
        "id": "oLmG83nViaJv",
        "colab": {
          "base_uri": "https://localhost:8080/",
          "height": 35
        },
        "outputId": "30d6b294-6ee9-4afc-c3ca-dcc28554bd03"
      },
      "source": [
        "# Условное ветвление\n",
        "a = 1\n",
        "b = 2\n",
        "if a > b:\n",
        "  print('a > b')\n",
        "else:\n",
        "  print('a <= b')"
      ],
      "execution_count": null,
      "outputs": [
        {
          "output_type": "stream",
          "text": [
            "a <= b\n"
          ],
          "name": "stdout"
        }
      ]
    },
    {
      "cell_type": "markdown",
      "metadata": {
        "id": "tQa23_tu8obH"
      },
      "source": [
        "Следующие инструкции управления — циклы. Их применяют, когда нужно повторить одинаковый блок. Первый тип цикла — это **while**. Для его реализации сначала пишем ключевое слово `while`, затем ставим логическое выражение и, как в конструкции условия, пишем блок команд, который будет выполняться до тех пор, пока логическое выражение истинно."
      ]
    },
    {
      "cell_type": "markdown",
      "metadata": {
        "id": "aQk5MI_z9gN8"
      },
      "source": [
        "В примере ниже мы прибавляем число 1 к общей сумме, затем увеличиваем его на 1 и прибавляем снова. Делаем это до тех пор, пока число не станет больше 5 и выходим из цикла, выполняя те команды, которые стоят после цикла (после блока команд, которые начинаются с отступа)."
      ]
    },
    {
      "cell_type": "code",
      "metadata": {
        "id": "PrnOEXzd4mII",
        "colab": {
          "base_uri": "https://localhost:8080/",
          "height": 35
        },
        "outputId": "fbc87e30-065c-4177-b7f9-28177ad93077"
      },
      "source": [
        "# Оператор while\n",
        "n = 5\n",
        "i = 1\n",
        "sum = 0\n",
        "\n",
        "while i <= n:\n",
        "  sum = sum + i\n",
        "  i = i + 1\n",
        "\n",
        "print(sum)"
      ],
      "execution_count": null,
      "outputs": [
        {
          "output_type": "stream",
          "text": [
            "15\n"
          ],
          "name": "stdout"
        }
      ]
    },
    {
      "cell_type": "markdown",
      "metadata": {
        "id": "JnE25DgF-GtV"
      },
      "source": [
        "Следующая конструкция — `for`. Она предназначена для перебора значений в коллекции. Эта коллекция может быть абсолютно любой. Например, кортежем или списком, с которыми мы познакомились выше. Или можем сгенерировать последовательность чисел с помощью `range`, которую мы подробно рассмотрим в другом уроке."
      ]
    },
    {
      "cell_type": "code",
      "metadata": {
        "id": "r_Z-DidJ5IvX",
        "colab": {
          "base_uri": "https://localhost:8080/",
          "height": 35
        },
        "outputId": "22327224-cbbe-4f56-fabf-bffcfb66e7f0"
      },
      "source": [
        "# Инструкция for ... in ...\n",
        "for i in range(10):\n",
        "  print(i, end=' ')"
      ],
      "execution_count": null,
      "outputs": [
        {
          "output_type": "stream",
          "text": [
            "0 1 2 3 4 5 6 7 8 9 "
          ],
          "name": "stdout"
        }
      ]
    },
    {
      "cell_type": "code",
      "metadata": {
        "id": "Xs-V7L5I5WWU",
        "colab": {
          "base_uri": "https://localhost:8080/",
          "height": 35
        },
        "outputId": "1592bdec-608f-4eef-b088-86ea83aae055"
      },
      "source": [
        "lst = [1, 7, 12]\n",
        "for i in lst:\n",
        "  print(i, end=' ')"
      ],
      "execution_count": null,
      "outputs": [
        {
          "output_type": "stream",
          "text": [
            "1 7 12 "
          ],
          "name": "stdout"
        }
      ]
    },
    {
      "cell_type": "markdown",
      "metadata": {
        "id": "fEh5KFZliaqK"
      },
      "source": [
        "### 6. Арифметические операторы"
      ]
    },
    {
      "cell_type": "markdown",
      "metadata": {
        "id": "05DvqtT7AU6k"
      },
      "source": [
        "Python позволяет производить все математические операции:"
      ]
    },
    {
      "cell_type": "code",
      "metadata": {
        "id": "RdCIJSp7igx-",
        "colab": {
          "base_uri": "https://localhost:8080/",
          "height": 35
        },
        "outputId": "748e0e64-5d0a-4e53-8a6a-047229507c9e"
      },
      "source": [
        "# сложение\n",
        "5 + 6"
      ],
      "execution_count": null,
      "outputs": [
        {
          "output_type": "execute_result",
          "data": {
            "text/plain": [
              "11"
            ]
          },
          "metadata": {
            "tags": []
          },
          "execution_count": 28
        }
      ]
    },
    {
      "cell_type": "code",
      "metadata": {
        "id": "gqXC2X8bAknG"
      },
      "source": [
        "# вычитание\n",
        "5 - 6"
      ],
      "execution_count": null,
      "outputs": []
    },
    {
      "cell_type": "code",
      "metadata": {
        "id": "eih3Vn5F5h98",
        "colab": {
          "base_uri": "https://localhost:8080/",
          "height": 35
        },
        "outputId": "e741b2e1-95a7-4fd2-c52f-6333f82c539d"
      },
      "source": [
        "# умножение\n",
        "5 * 6 "
      ],
      "execution_count": null,
      "outputs": [
        {
          "output_type": "execute_result",
          "data": {
            "text/plain": [
              "30"
            ]
          },
          "metadata": {
            "tags": []
          },
          "execution_count": 29
        }
      ]
    },
    {
      "cell_type": "code",
      "metadata": {
        "id": "MO4lbz2s5kCT",
        "colab": {
          "base_uri": "https://localhost:8080/",
          "height": 35
        },
        "outputId": "30b7f7b8-332f-4247-a2f8-198952a5848c"
      },
      "source": [
        "# деление\n",
        "12 / 6"
      ],
      "execution_count": null,
      "outputs": [
        {
          "output_type": "execute_result",
          "data": {
            "text/plain": [
              "2.0"
            ]
          },
          "metadata": {
            "tags": []
          },
          "execution_count": 31
        }
      ]
    },
    {
      "cell_type": "code",
      "metadata": {
        "id": "MnOom6hm5llF",
        "colab": {
          "base_uri": "https://localhost:8080/",
          "height": 35
        },
        "outputId": "d9677c0b-c8d6-4483-bc70-39746e032c1f"
      },
      "source": [
        "# возведение в степень\n",
        "5 ** 6"
      ],
      "execution_count": null,
      "outputs": [
        {
          "output_type": "execute_result",
          "data": {
            "text/plain": [
              "15625"
            ]
          },
          "metadata": {
            "tags": []
          },
          "execution_count": 32
        }
      ]
    },
    {
      "cell_type": "markdown",
      "metadata": {
        "id": "SgN3sJYnAoBm"
      },
      "source": [
        "Мы можем производить эти операции не только с данными напрямую, но и со ссылками на эти значения. Дальше будут обозначены их переменные.\n",
        "\n",
        "Например, если мы хотим увеличить значение переменной на какое-то число, мы можем использовать оператор `+=`. Вместо плюса может быть абсолютно любая операция, которую мы рассмотрели выше."
      ]
    },
    {
      "cell_type": "code",
      "metadata": {
        "id": "UyO6pKN-5o88",
        "colab": {
          "base_uri": "https://localhost:8080/",
          "height": 35
        },
        "outputId": "d921f4ee-2896-4202-f748-cb977b9d2248"
      },
      "source": [
        "a = 5\n",
        "a += 6\n",
        "print(a)"
      ],
      "execution_count": null,
      "outputs": [
        {
          "output_type": "stream",
          "text": [
            "11\n"
          ],
          "name": "stdout"
        }
      ]
    },
    {
      "cell_type": "markdown",
      "metadata": {
        "id": "BYkOl9BKBIGM"
      },
      "source": [
        "Можно совершать эти операции между двумя переменными. Например, мы можем сложить строки. В таком случае они склеятся друг с другом. Это называют **конкатенацией**."
      ]
    },
    {
      "cell_type": "code",
      "metadata": {
        "id": "iE-WPIan54-p",
        "colab": {
          "base_uri": "https://localhost:8080/",
          "height": 35
        },
        "outputId": "eb04c351-d4f3-4d8d-ea6e-c70ea8694d83"
      },
      "source": [
        "str1 = 'Hello '\n",
        "str2 = 'world!'\n",
        "print(str1 + str2)"
      ],
      "execution_count": null,
      "outputs": [
        {
          "output_type": "stream",
          "text": [
            "Hello world!\n"
          ],
          "name": "stdout"
        }
      ]
    },
    {
      "cell_type": "markdown",
      "metadata": {
        "id": "gSc-edWHBjCO"
      },
      "source": [
        "Мы можем умножить строку на число. В таком случае она повторится столько раз, на какое число мы ее умножим."
      ]
    },
    {
      "cell_type": "code",
      "metadata": {
        "id": "SfozPBuz6FlN",
        "colab": {
          "base_uri": "https://localhost:8080/",
          "height": 35
        },
        "outputId": "3166a0d8-7670-4e15-e527-d398b41181d9"
      },
      "source": [
        "10 * str1"
      ],
      "execution_count": null,
      "outputs": [
        {
          "output_type": "execute_result",
          "data": {
            "text/plain": [
              "'Hello Hello Hello Hello Hello Hello Hello Hello Hello Hello '"
            ]
          },
          "metadata": {
            "tags": []
          },
          "execution_count": 36
        }
      ]
    },
    {
      "cell_type": "markdown",
      "metadata": {
        "id": "UKS9BhcmBr0y"
      },
      "source": [
        "Конкатенация работает и для списков:"
      ]
    },
    {
      "cell_type": "code",
      "metadata": {
        "id": "bsYkj6g-6Lxa",
        "colab": {
          "base_uri": "https://localhost:8080/",
          "height": 35
        },
        "outputId": "c5325e50-0d1b-4ee7-89e8-a847e8af879e"
      },
      "source": [
        "[1,2,3] + [4,5]"
      ],
      "execution_count": null,
      "outputs": [
        {
          "output_type": "execute_result",
          "data": {
            "text/plain": [
              "[1, 2, 3, 4, 5]"
            ]
          },
          "metadata": {
            "tags": []
          },
          "execution_count": 37
        }
      ]
    },
    {
      "cell_type": "markdown",
      "metadata": {
        "id": "xzAU-YWxihe8"
      },
      "source": [
        "### 7. Ввод/вывод"
      ]
    },
    {
      "cell_type": "markdown",
      "metadata": {
        "id": "h89NIOrzByGU"
      },
      "source": [
        "Чаще всего мы не знаем, какие данные нам придут, ведь их может вводить пользователь. Для этого используют функцию `input`. Мы можем выполнить ее и получить значение, которое вводит пользователь:"
      ]
    },
    {
      "cell_type": "code",
      "metadata": {
        "id": "140AL-u-ilSO",
        "colab": {
          "base_uri": "https://localhost:8080/",
          "height": 54
        },
        "outputId": "6c4d7fa2-2e06-4120-93ca-ef709505f0c9"
      },
      "source": [
        "input()"
      ],
      "execution_count": null,
      "outputs": [
        {
          "output_type": "stream",
          "text": [
            "12\n"
          ],
          "name": "stdout"
        },
        {
          "output_type": "execute_result",
          "data": {
            "text/plain": [
              "'12'"
            ]
          },
          "metadata": {
            "tags": []
          },
          "execution_count": 38
        }
      ]
    },
    {
      "cell_type": "markdown",
      "metadata": {
        "id": "_WHzi7S5CGg7"
      },
      "source": [
        "Все данные, которые вводит пользователь, Python интерпретирует как строковый тип данных. Если мы ждем, что пользователь введет число, мы можем преобразовать результат с помощью известной нам функции `int`."
      ]
    },
    {
      "cell_type": "code",
      "metadata": {
        "id": "EHYS9xIe7hHQ",
        "colab": {
          "base_uri": "https://localhost:8080/",
          "height": 54
        },
        "outputId": "d82e923d-7be2-47af-9587-1b2498abca65"
      },
      "source": [
        "a = input()\n",
        "print(type(a))"
      ],
      "execution_count": null,
      "outputs": [
        {
          "output_type": "stream",
          "text": [
            "12\n",
            "<class 'str'>\n"
          ],
          "name": "stdout"
        }
      ]
    },
    {
      "cell_type": "code",
      "metadata": {
        "id": "5QoAazYU7myg",
        "colab": {
          "base_uri": "https://localhost:8080/",
          "height": 54
        },
        "outputId": "6809547b-35ef-4518-9561-42e7954508e6"
      },
      "source": [
        "a = int(input())\n",
        "print(type(a))"
      ],
      "execution_count": null,
      "outputs": [
        {
          "output_type": "stream",
          "text": [
            "12\n",
            "<class 'int'>\n"
          ],
          "name": "stdout"
        }
      ]
    },
    {
      "cell_type": "markdown",
      "metadata": {
        "id": "z5g-hmWVCbg5"
      },
      "source": [
        "В скобках `input` можно указать информацию для пользователя, которую он увидит перед тем, как ввести какие-нибудь данные:"
      ]
    },
    {
      "cell_type": "code",
      "metadata": {
        "id": "mEpbm7jv7ses",
        "colab": {
          "base_uri": "https://localhost:8080/",
          "height": 54
        },
        "outputId": "67efc525-30c4-44cf-939a-ddd2d22c70c3"
      },
      "source": [
        "a = int(input('Введите число:'))\n",
        "print(type(a))"
      ],
      "execution_count": null,
      "outputs": [
        {
          "output_type": "stream",
          "text": [
            "Введите число:12\n",
            "<class 'int'>\n"
          ],
          "name": "stdout"
        }
      ]
    },
    {
      "cell_type": "markdown",
      "metadata": {
        "id": "Y7-AWwfQilz4"
      },
      "source": [
        "### 8. Создание и вызов функций"
      ]
    },
    {
      "cell_type": "markdown",
      "metadata": {
        "id": "WOOwJiWcCn2N"
      },
      "source": [
        "Пока мы с вами использовали только готовые функции, которые по умолчанию есть в Python. Довольно часто нам придется использовать один и тот же код внутри программы. Чтобы не переписывать его каждый раз и не добавлять лишней работы, можно писать собственные функции. \n",
        "\n",
        "Написание функции начинаем с ключевого слова `def`, затем задаем имя нашей функции, и в скобках указываем параметры, которые она принимает. Параметр — это такая же переменная, но она видна только внутри функции. Определение функции заканчиваем двоеточием, после которого идет блок команд, выполняющийся при вызове этой функции. Как и в предыдущих управляющих конструкциях, блок отделяем отступом.\n",
        "\n",
        "Также мы можем указать справочную информацию, если вдруг хотим узнать, что делает эта функция. Этот справочный блок указываем в тройном апострофе."
      ]
    },
    {
      "cell_type": "code",
      "metadata": {
        "id": "6v0cJv_SisJf"
      },
      "source": [
        "# Пример функции для нахождения суммы чисел\n",
        "\n",
        "def f_sum(n):\n",
        "  '''\n",
        "    Нахождение суммы натуральных чисел до n.\n",
        "    Вход:\n",
        "      n — граница\n",
        "    Выход:\n",
        "      Сумма значений или -1 в случае неверной границы.\n",
        "  '''\n",
        "  if n<0:\n",
        "    print('Неверный формат ввода!')\n",
        "    return -1\n",
        "\n",
        "  i = 0\n",
        "  n_sum = 0\n",
        "  while i <= n:\n",
        "    n_sum += i\n",
        "    i += 1\n",
        "  return n_sum"
      ],
      "execution_count": null,
      "outputs": []
    },
    {
      "cell_type": "markdown",
      "metadata": {
        "id": "vLvjj9-PEYzs"
      },
      "source": [
        "Для использования функции пишем ее имя и в скобках указываем данные, которые мы хотим передать в функцию как параметр. Можно заметить, что переменная, в которую мы сохраняем данные от пользователя, называется так же, как и параметр функции. Однако для Python это совершенно разные переменные, потому что параметр функции существует только внутри нее и не виден за ее пределами. Название данных, которые мы передаем как параметр и параметры функции могут отличаться."
      ]
    },
    {
      "cell_type": "code",
      "metadata": {
        "id": "NpeOY-itrWxB",
        "colab": {
          "base_uri": "https://localhost:8080/",
          "height": 54
        },
        "outputId": "ad4ad82e-b207-4433-d194-875ee947a779"
      },
      "source": [
        "n = int(input('Введите целое натуральное число:'))\n",
        "n_sum = f_sum(n)\n",
        "if n_sum!=-1:\n",
        "  print(n_sum)"
      ],
      "execution_count": null,
      "outputs": [
        {
          "output_type": "stream",
          "text": [
            "Введите целое натуральное число:5\n",
            "15\n"
          ],
          "name": "stdout"
        }
      ]
    },
    {
      "cell_type": "markdown",
      "metadata": {
        "id": "-sz54kovFYPe"
      },
      "source": [
        "Чтобы посмотреть информацию о функции надо написать после имени функции `.\\_\\_doc\\_\\_`:"
      ]
    },
    {
      "cell_type": "code",
      "metadata": {
        "id": "PyN9OdbJrrhO",
        "colab": {
          "base_uri": "https://localhost:8080/",
          "height": 164
        },
        "outputId": "27e880fb-66dd-4331-a367-50b450382d06"
      },
      "source": [
        "print('Информация о функции ', f_sum.__name__)\n",
        "print(f_sum.__doc__)"
      ],
      "execution_count": null,
      "outputs": [
        {
          "output_type": "stream",
          "text": [
            "Информация о функции  f_sum\n",
            "\n",
            "    Нахождение суммы натуральных чисел до n.\n",
            "    Вход:\n",
            "      n - граница\n",
            "    Выход:\n",
            "      Сумма значений или -1 в случае неверной границы.\n",
            "  \n"
          ],
          "name": "stdout"
        }
      ]
    },
    {
      "cell_type": "code",
      "metadata": {
        "id": "EXSMkDPRJmeD",
        "colab": {
          "base_uri": "https://localhost:8080/",
          "height": 164
        },
        "outputId": "fc8bd01e-6e13-4924-efbf-78e34eed85a5"
      },
      "source": [
        "print(print.__doc__)"
      ],
      "execution_count": null,
      "outputs": [
        {
          "output_type": "stream",
          "text": [
            "print(value, ..., sep=' ', end='\\n', file=sys.stdout, flush=False)\n",
            "\n",
            "Prints the values to a stream, or to sys.stdout by default.\n",
            "Optional keyword arguments:\n",
            "file:  a file-like object (stream); defaults to the current sys.stdout.\n",
            "sep:   string inserted between values, default a space.\n",
            "end:   string appended after the last value, default a newline.\n",
            "flush: whether to forcibly flush the stream.\n"
          ],
          "name": "stdout"
        }
      ]
    },
    {
      "cell_type": "code",
      "metadata": {
        "id": "Y0UvLxI7JvXF"
      },
      "source": [],
      "execution_count": null,
      "outputs": []
    },
    {
      "cell_type": "markdown",
      "metadata": {
        "id": "5F_hHKVTNzia"
      },
      "source": [
        "## Дополнительные материалы и литература"
      ]
    },
    {
      "cell_type": "markdown",
      "metadata": {
        "id": "YWhDk5dJN8NC"
      },
      "source": [
        "\n",
        "\n",
        "*   Саммерфилд М., «Программирование на Python 3. Подробное руководство» — Пер. с англ. — СПб.: Символ-Плюс, 2009. — 608 с, ил., ISBN: 978-5-93286-161-5 С. 21.\n",
        "*   https://habr.com/ru/post/450474/\n",
        "\n"
      ]
    }
  ]
}