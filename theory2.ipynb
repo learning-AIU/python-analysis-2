{
  "nbformat": 4,
  "nbformat_minor": 0,
  "metadata": {
    "colab": {
      "provenance": []
    },
    "kernelspec": {
      "name": "python3",
      "display_name": "Python 3"
    }
  },
  "cells": [
    {
      "cell_type": "markdown",
      "metadata": {
        "id": "moIM-S1g7SKx"
      },
      "source": [
        "# Курс «Python для анализа данных»\n",
        "\n",
        "---\n",
        "#2.2 Типы данных. Идентификаторы и ключевые слова. Целочисленные типы и числа с плавающей запятой. Строки"
      ]
    },
    {
      "cell_type": "markdown",
      "metadata": {
        "id": "QZ1Arpnj7p_N"
      },
      "source": [
        "## Где мы сейчас?\n"
      ]
    },
    {
      "cell_type": "markdown",
      "metadata": {
        "id": "J9A06fP5j1vS"
      },
      "source": [
        "<html>\n",
        " <head>\n",
        "  <meta charset=\"utf-8\">\n",
        " </head>\n",
        " <body>\n",
        "  <ul>\n",
        "    <li>1. Введение в анализ данных и разработку на языке Python </li> <!-2.1->\n",
        "    <li>2. <strong>Основы языка</strong> <i><- В этой главе!</i>\n",
        "     <ul>\n",
        "      <li>2.1 Быстрое введение. Синтаксические основы языка Python</li>\n",
        "      <li><strong>2.2 Типы данных. Идентификаторы и ключевые слова. Целочисленные типы и числа с плавающей запятой. Строки</strong> <i><- В этой части!</i></li>\n",
        "      <li>2.3 Типы коллекций. Последовательности, множества, отображения</li>\n",
        "      <li>2.4 Управляющие структуры. Условные ветвления и циклы </li>\n",
        "      <li>2.5 Функции</li>\n",
        "      <li>2.6 Модули</li>\n",
        "      <li>2.7 Обработка исключений</li>\n",
        "      <li>2.8 Объектно-ориентированное программирование</li>\n",
        "      <li>2.9 Обзор стандартной библиотеки языка Python</li>\n",
        "     </ul>\n",
        "    </li>   \n",
        "  </ul>\n",
        " </body>\n",
        "</html>"
      ]
    },
    {
      "cell_type": "markdown",
      "metadata": {
        "id": "z1oJmp_4Po8K"
      },
      "source": [
        "## Краткий обзор занятия\n"
      ]
    },
    {
      "cell_type": "markdown",
      "metadata": {
        "id": "7X4Wlpraj7Yw"
      },
      "source": [
        "Рассматриваем ключевое понятие любого языка программирования — тип обрабатываемых данных. А также правила задавания имен переменным и зарезервированные ключевые слова."
      ]
    },
    {
      "cell_type": "markdown",
      "metadata": {
        "id": "NhfVXiTGAkND"
      },
      "source": [
        "## Ключевые слова, понятия и выражения\n",
        "\n",
        "\n",
        "\n",
        "\n"
      ]
    },
    {
      "cell_type": "markdown",
      "metadata": {
        "id": "ixnuL5V2rZtz"
      },
      "source": [
        "*   ```int```;\n",
        "*   ```float```;\n",
        "*   ```str```;\n",
        "*   ```complex```;\n",
        "*   ```bool```."
      ]
    },
    {
      "cell_type": "markdown",
      "metadata": {
        "id": "2lFBeeLHjcc7"
      },
      "source": [
        "## Материал"
      ]
    },
    {
      "cell_type": "markdown",
      "metadata": {
        "id": "4rOZ32p6kD0j"
      },
      "source": [
        "### Идентификаторы и ключевые слова"
      ]
    },
    {
      "cell_type": "markdown",
      "metadata": {
        "id": "Q5ehJhH94UV5"
      },
      "source": [
        "Идентификаторы — имена, которые дают ссылкам на объекты. Они могут состоять из букв, нижнего подчеркивания и цифр, но не могут начинаться с цифры. Общая договоренность по использованию идентификаторов представлена в [PEP8](https://www.python.org/dev/peps/pep-0008/#naming-conventions).\n",
        "\n",
        "Cтили идентификаторов:\n",
        "*    b — одиночная маленькая буква;\n",
        "*    B — одиночная заглавная буква;\n",
        "*    lowercase — слово в нижнем регистре;\n",
        "*    lower_case_with_underscores — слова из маленьких букв с подчеркиваниями;\n",
        "*    UPPERCASE — заглавные буквы;\n",
        "*    UPPERCASE_WITH_UNDERSCORES — слова из заглавных букв с подчеркиваниями;\n",
        "*    CapitalizedWords — слова с заглавными буквами (или CapWords, CamelCase);\n",
        "*    mixedCase — отличается от CapitalizedWords тем, что первое слово начинается с маленькой буквы;\n",
        "*    Capitalized_Words_With_Underscores — слова с заглавными буквами и подчеркиваниями (уродливо!).\n",
        "\n",
        "Ключевые слова — это слова, зарезервированные языком программирования, которые не должны присваиваться ссылкам на объекты во избежание ошибок.\n",
        "\n",
        "![alt text](https://drive.google.com/uc?id=1OJCIO0wkf3TWMsqKXSOIGjVRJuKOHb3e)\n"
      ]
    },
    {
      "cell_type": "markdown",
      "metadata": {
        "id": "vvS9NaUlkHuc"
      },
      "source": [
        "### Целочисленные типы"
      ]
    },
    {
      "cell_type": "markdown",
      "metadata": {
        "id": "BOeVBTbLkWZm"
      },
      "source": [
        "#### Целые числа"
      ]
    },
    {
      "cell_type": "markdown",
      "metadata": {
        "id": "tnH0AujVI-It"
      },
      "source": [
        "Целые числа мы можем представить в любой системе счисления."
      ]
    },
    {
      "cell_type": "code",
      "metadata": {
        "id": "KhH97iOckLW4",
        "colab": {
          "base_uri": "https://localhost:8080/",
          "height": 35
        },
        "outputId": "5693dae1-e56b-4987-aa94-439b81b48ee9"
      },
      "source": [
        "# Десятичное число\n",
        "14600926"
      ],
      "execution_count": null,
      "outputs": [
        {
          "output_type": "execute_result",
          "data": {
            "text/plain": [
              "14600926"
            ]
          },
          "metadata": {
            "tags": []
          },
          "execution_count": 1
        }
      ]
    },
    {
      "cell_type": "code",
      "metadata": {
        "id": "MxsDI3hFDCBt",
        "colab": {
          "base_uri": "https://localhost:8080/",
          "height": 35
        },
        "outputId": "04eb190f-d883-402a-c12f-515b3eb2b12e"
      },
      "source": [
        "# Двоичное число. Перед его записью ставим префикс 0b\n",
        "0b01000111"
      ],
      "execution_count": null,
      "outputs": [
        {
          "output_type": "execute_result",
          "data": {
            "text/plain": [
              "71"
            ]
          },
          "metadata": {
            "tags": []
          },
          "execution_count": 2
        }
      ]
    },
    {
      "cell_type": "code",
      "metadata": {
        "id": "NcvwnJqfDKl0",
        "colab": {
          "base_uri": "https://localhost:8080/",
          "height": 35
        },
        "outputId": "0ad7ba72-7301-49e0-b7b5-33c24468ef72"
      },
      "source": [
        "# Восьмеричное число. Перед его записью ставим префикс 0o\n",
        "0o14123"
      ],
      "execution_count": null,
      "outputs": [
        {
          "output_type": "execute_result",
          "data": {
            "text/plain": [
              "6227"
            ]
          },
          "metadata": {
            "tags": []
          },
          "execution_count": 3
        }
      ]
    },
    {
      "cell_type": "code",
      "metadata": {
        "id": "gvb-Gz9wDUrq",
        "colab": {
          "base_uri": "https://localhost:8080/",
          "height": 35
        },
        "outputId": "1928c49f-4a97-403e-fe6f-44f24e1a11c8"
      },
      "source": [
        "# Шестнадцатеричное число. Перед его записью ставим префикс 0x\n",
        "0xAAFF"
      ],
      "execution_count": null,
      "outputs": [
        {
          "output_type": "execute_result",
          "data": {
            "text/plain": [
              "43775"
            ]
          },
          "metadata": {
            "tags": []
          },
          "execution_count": 4
        }
      ]
    },
    {
      "cell_type": "markdown",
      "metadata": {
        "id": "BraFyWlDJiCN"
      },
      "source": [
        "Для перевода чисел из одного счисления в другое мы можем использовать соответствующие функции:"
      ]
    },
    {
      "cell_type": "code",
      "metadata": {
        "id": "-AM58gGCDhc6",
        "colab": {
          "base_uri": "https://localhost:8080/",
          "height": 91
        },
        "outputId": "57fad99c-dd20-41f6-9326-fee3d6860765"
      },
      "source": [
        "n = 75\n",
        "print(n)\n",
        "print(bin(n))\n",
        "print(oct(n))\n",
        "print(hex(n))"
      ],
      "execution_count": null,
      "outputs": [
        {
          "output_type": "stream",
          "text": [
            "75\n",
            "0b1001011\n",
            "0o113\n",
            "0x4b\n"
          ],
          "name": "stdout"
        }
      ]
    },
    {
      "cell_type": "markdown",
      "metadata": {
        "id": "MdE0gZjoJxd4"
      },
      "source": [
        "На прошлом занятии мы рассмотрели арифметические операции над числами. Полный список можно посмотреть в таблице."
      ]
    },
    {
      "cell_type": "markdown",
      "metadata": {
        "id": "uNblZKe8DwaH"
      },
      "source": [
        "Арифметические операции:\n",
        "\n",
        "![alt text](https://drive.google.com/uc?id=1RZoyyJ2zl0432ba1FpgcrlH8i7YW2dMD)"
      ]
    },
    {
      "cell_type": "code",
      "metadata": {
        "id": "QtxvrTPcGeP2",
        "colab": {
          "base_uri": "https://localhost:8080/",
          "height": 35
        },
        "outputId": "37e65e97-19de-4f7f-d389-7711f221e0b4"
      },
      "source": [
        "abs(-1)"
      ],
      "execution_count": null,
      "outputs": [
        {
          "output_type": "execute_result",
          "data": {
            "text/plain": [
              "1"
            ]
          },
          "metadata": {
            "tags": []
          },
          "execution_count": 6
        }
      ]
    },
    {
      "cell_type": "code",
      "metadata": {
        "id": "dX3sOdwIGkJ4",
        "colab": {
          "base_uri": "https://localhost:8080/",
          "height": 35
        },
        "outputId": "5069ec4e-fc9f-4327-8605-c4ec4efe43d3"
      },
      "source": [
        "round(2.123, 1)"
      ],
      "execution_count": null,
      "outputs": [
        {
          "output_type": "execute_result",
          "data": {
            "text/plain": [
              "2.1"
            ]
          },
          "metadata": {
            "tags": []
          },
          "execution_count": 7
        }
      ]
    },
    {
      "cell_type": "markdown",
      "metadata": {
        "id": "G-c7yhylGoDl"
      },
      "source": [
        "Также мы можем использовать побитовые операции. Такие операции совершают с двоичными числами.\n",
        "\n",
        "Битовые операторы:\n",
        "\n",
        "![alt text](https://drive.google.com/uc?id=1dsV4uTQfZO_kQ7fqUMo_2MtOd0AzNvD8)"
      ]
    },
    {
      "cell_type": "code",
      "metadata": {
        "id": "3xrt5gl0G6kw",
        "colab": {
          "base_uri": "https://localhost:8080/",
          "height": 201
        },
        "outputId": "afe2860c-11c6-4d9d-8e9a-28d296959aad"
      },
      "source": [
        "for i in range(10):\n",
        "  print(i, bin(1<<i),'\\t', 1<<i)"
      ],
      "execution_count": null,
      "outputs": [
        {
          "output_type": "stream",
          "text": [
            "0 0b1 \t 1\n",
            "1 0b10 \t 2\n",
            "2 0b100 \t 4\n",
            "3 0b1000 \t 8\n",
            "4 0b10000 \t 16\n",
            "5 0b100000 \t 32\n",
            "6 0b1000000 \t 64\n",
            "7 0b10000000 \t 128\n",
            "8 0b100000000 \t 256\n",
            "9 0b1000000000 \t 512\n"
          ],
          "name": "stdout"
        }
      ]
    },
    {
      "cell_type": "markdown",
      "metadata": {
        "id": "IFQYoQF8kasS"
      },
      "source": [
        "#### Логические значения"
      ]
    },
    {
      "cell_type": "markdown",
      "metadata": {
        "id": "_HqTAzgTKXRe"
      },
      "source": [
        "Мы с вами уже встречали логические значения на прошлом занятии. Пример таких значений — логические выражения. Но мы можем использовать их комбинацию с помощью операций `and` и `or`. `and` используем, когда необходимо, чтобы все значения были истинными. `or` используем, когда нужно, чтобы хотя бы одно значение было истинным."
      ]
    },
    {
      "cell_type": "markdown",
      "metadata": {
        "id": "2oxnpSvYVmHq"
      },
      "source": [
        "На самом деле `True` и `False` — это 0 и 1 соответственно."
      ]
    },
    {
      "cell_type": "code",
      "metadata": {
        "id": "U3ZzOa2CkgUr"
      },
      "source": [
        "t = True\n",
        "f = False"
      ],
      "execution_count": null,
      "outputs": []
    },
    {
      "cell_type": "code",
      "metadata": {
        "id": "X9Kjtb3VIdfN",
        "colab": {
          "base_uri": "https://localhost:8080/",
          "height": 35
        },
        "outputId": "10cfa432-3c68-406b-d12a-6b73de2107c4"
      },
      "source": [
        "t and f"
      ],
      "execution_count": null,
      "outputs": [
        {
          "output_type": "execute_result",
          "data": {
            "text/plain": [
              "False"
            ]
          },
          "metadata": {
            "tags": []
          },
          "execution_count": 10
        }
      ]
    },
    {
      "cell_type": "code",
      "metadata": {
        "id": "mKvgMjitIjIF",
        "colab": {
          "base_uri": "https://localhost:8080/",
          "height": 35
        },
        "outputId": "d4277938-f470-43c8-d261-bb80b658c43e"
      },
      "source": [
        "t or f"
      ],
      "execution_count": null,
      "outputs": [
        {
          "output_type": "execute_result",
          "data": {
            "text/plain": [
              "True"
            ]
          },
          "metadata": {
            "tags": []
          },
          "execution_count": 11
        }
      ]
    },
    {
      "cell_type": "code",
      "metadata": {
        "id": "AImEAR01IyJd",
        "colab": {
          "base_uri": "https://localhost:8080/",
          "height": 35
        },
        "outputId": "8d011d9b-d15b-4d14-d69e-2e5113476d4d"
      },
      "source": [
        "print(t+t)"
      ],
      "execution_count": null,
      "outputs": [
        {
          "output_type": "stream",
          "text": [
            "2\n"
          ],
          "name": "stdout"
        }
      ]
    },
    {
      "cell_type": "markdown",
      "metadata": {
        "id": "NQRK8vyGkL4a"
      },
      "source": [
        "### Тип чисел с плавающей запятой"
      ]
    },
    {
      "cell_type": "markdown",
      "metadata": {
        "id": "QzC18guAVzgw"
      },
      "source": [
        "Мы можем записать числа `float` в виде «научной записи». Для этого в конце добавляем `e+n` или `e+n`. Эта запись означает, что нужно умножить число на 10 в степени `n`:"
      ]
    },
    {
      "cell_type": "code",
      "metadata": {
        "id": "IIAq7KHDkU6Z",
        "colab": {
          "base_uri": "https://localhost:8080/"
        },
        "outputId": "c1c7a0e9-5848-4951-9482-4c03d0e5b4da"
      },
      "source": [
        "0.0, 5.4, -2.5, 8.9e-4, 8.9e+4"
      ],
      "execution_count": null,
      "outputs": [
        {
          "output_type": "execute_result",
          "data": {
            "text/plain": [
              "(0.0, 5.4, -2.5, 0.00089, 89000.0)"
            ]
          },
          "metadata": {},
          "execution_count": 1
        }
      ]
    },
    {
      "cell_type": "markdown",
      "metadata": {
        "id": "ShMrqso4kkbR"
      },
      "source": [
        "### Комплексные числа"
      ]
    },
    {
      "cell_type": "markdown",
      "metadata": {
        "id": "P51lDPzsWdMW"
      },
      "source": [
        "Еще один тип чисел — это комплексные числа, с которыми мы знакомы из курса математики. Их редко используют, поэтому просто помним, что они существуют."
      ]
    },
    {
      "cell_type": "code",
      "metadata": {
        "id": "ov-P_bXfkmdF",
        "colab": {
          "base_uri": "https://localhost:8080/",
          "height": 72
        },
        "outputId": "b284fad8-d6de-466e-95fb-461bb0f6bd7e"
      },
      "source": [
        "z = -4.0 + 3.0j\n",
        "print(type(z))\n",
        "print('Re=',z.real)\n",
        "print('Im=',z.imag)"
      ],
      "execution_count": null,
      "outputs": [
        {
          "output_type": "stream",
          "text": [
            "<class 'complex'>\n",
            "Re= -4.0\n",
            "Im= 3.0\n"
          ],
          "name": "stdout"
        }
      ]
    },
    {
      "cell_type": "markdown",
      "metadata": {
        "id": "CEPYIiA_krlh"
      },
      "source": [
        "### Строки"
      ]
    },
    {
      "cell_type": "markdown",
      "metadata": {
        "id": "6f45emwDW4Kz"
      },
      "source": [
        "Строки задают с помощью одинарных или двойных кавычек. Строкой считается все, что находится между двумя кавычками. Из-за этого мы не можем просто использовать кавычки внутри строк, которые определили через такие же кавычки. Если мы хотим это сделать, нам нужно их экранировать:"
      ]
    },
    {
      "cell_type": "code",
      "metadata": {
        "id": "sMjrHzq0kp0M",
        "colab": {
          "base_uri": "https://localhost:8080/",
          "height": 54
        },
        "outputId": "e19213f6-678b-40b9-915f-bb5ddfd66e17"
      },
      "source": [
        "# Использование кавычек\n",
        "str1 = \"It's a table\"\n",
        "print(str1)\n",
        "str1 = \"It is \\\"a table\\\"\"\n",
        "print(str1)"
      ],
      "execution_count": null,
      "outputs": [
        {
          "output_type": "stream",
          "text": [
            "It's a table\n",
            "It is \"a table\"\n"
          ],
          "name": "stdout"
        }
      ]
    },
    {
      "cell_type": "markdown",
      "metadata": {
        "id": "S3ggAfz8XYKp"
      },
      "source": [
        "Либо мы можем просто использовать разные кавычки:"
      ]
    },
    {
      "cell_type": "code",
      "metadata": {
        "id": "6uDXWUq7YGHV",
        "colab": {
          "base_uri": "https://localhost:8080/",
          "height": 54
        },
        "outputId": "67e6e84c-d281-4fbc-96de-a9e35cc6474b"
      },
      "source": [
        "# Использование апострофов\n",
        "str2 = 'It is \"a table\"'\n",
        "print(str2)\n",
        "str2 = 'It\\'s a table'\n",
        "print(str2)"
      ],
      "execution_count": null,
      "outputs": [
        {
          "output_type": "stream",
          "text": [
            "It is \"a table\"\n",
            "It's a table\n"
          ],
          "name": "stdout"
        }
      ]
    },
    {
      "cell_type": "markdown",
      "metadata": {
        "id": "98QGYHl0XjOi"
      },
      "source": [
        "Еще мы можем использовать многомерные строки, взяв их в три одинарные кавычки:"
      ]
    },
    {
      "cell_type": "code",
      "metadata": {
        "id": "H9C23y28YK7A",
        "colab": {
          "base_uri": "https://localhost:8080/",
          "height": 72
        },
        "outputId": "962f58f8-f406-4ca9-bb12-a65745c3d136"
      },
      "source": [
        "# Использование тройных кавычек\n",
        "str3 = '''- Привет! \n",
        "- Как \"дела'?\n",
        "- Хорошо'''\n",
        "print(str3)"
      ],
      "execution_count": null,
      "outputs": [
        {
          "output_type": "stream",
          "text": [
            "- Привет! \n",
            "- Как \"дела'?\n",
            "- Хорошо\n"
          ],
          "name": "stdout"
        }
      ]
    },
    {
      "cell_type": "markdown",
      "metadata": {
        "id": "zL0jplyNXwLY"
      },
      "source": [
        "Символ `\\n` — это перенос строки."
      ]
    },
    {
      "cell_type": "code",
      "metadata": {
        "id": "zpxY_pih01xr",
        "colab": {
          "base_uri": "https://localhost:8080/",
          "height": 35
        },
        "outputId": "89c8fc20-07ae-4dc8-9aae-2d7acdcbe076"
      },
      "source": [
        "str3"
      ],
      "execution_count": null,
      "outputs": [
        {
          "output_type": "execute_result",
          "data": {
            "text/plain": [
              "'- Привет! \\n- Как \"дела\\'?\\n- Хорошо'"
            ]
          },
          "metadata": {
            "tags": []
          },
          "execution_count": 33
        }
      ]
    },
    {
      "cell_type": "markdown",
      "metadata": {
        "id": "gdxJADV4X2ek"
      },
      "source": [
        "В строках мы можем обратиться к каждому символу по отдельности, используя индексацию, или взять целую часть строки с помощью срезов. Срезы указывают в квадратных скобках, где прописывают три числа, разделенные двоеточиями:\n",
        "\n",
        "- первое — начальный индекс;\n",
        "- второе — конечный индекс + 1 (он не включается в срез);\n",
        "- третье — шаг, с которым мы отбираем элементы строки.\n",
        "\n",
        "Эти параметры могут как положительными, так и отрицательными (отрицательный индекс — это номер элемента с конца). Их можно использовать по отдельности, но все равно нужно ставить двоеточие, чтобы Python понимал, какой именно параметр мы хотим задать. "
      ]
    },
    {
      "cell_type": "code",
      "metadata": {
        "id": "SbpNzSGM06h7",
        "colab": {
          "base_uri": "https://localhost:8080/",
          "height": 441
        },
        "outputId": "d3bdef34-0c3d-4cb5-d7ba-763ffb282936"
      },
      "source": [
        "# Срезы строк\n",
        "print(str1)\n",
        "print('-'*10)\n",
        "print(str1[0:5])\n",
        "print('-'*10)\n",
        "print(str1[3:5])\n",
        "print('-'*10)\n",
        "print(str3)\n",
        "print('-'*10)\n",
        "print(str3[-6:])\n",
        "print('-'*10)\n",
        "print(str3[0::1])\n",
        "print('-'*10)\n",
        "print(str3[0::2])\n",
        "print('-'*10)\n",
        "print(str3[::-1])"
      ],
      "execution_count": null,
      "outputs": [
        {
          "output_type": "stream",
          "text": [
            "It is \"a table\"\n",
            "----------\n",
            "It is\n",
            "----------\n",
            "is\n",
            "----------\n",
            "- Привет! \n",
            "- Как \"дела'?\n",
            "- Хорошо\n",
            "----------\n",
            "Хорошо\n",
            "----------\n",
            "- Привет! \n",
            "- Как \"дела'?\n",
            "- Хорошо\n",
            "----------\n",
            "-Пие!\n",
            " а дл'\n",
            " ооо\n",
            "----------\n",
            "ошороХ -\n",
            "?'алед\" каК -\n",
            " !тевирП -\n"
          ],
          "name": "stdout"
        }
      ]
    },
    {
      "cell_type": "markdown",
      "metadata": {
        "id": "eVR4VwEhZ1Yd"
      },
      "source": [
        "Чтобы лучше понять, как работают операции, которые мы изучили на занятии, рекомендуем самостоятельно поэкспериментировать с ними."
      ]
    },
    {
      "cell_type": "markdown",
      "metadata": {
        "id": "5F_hHKVTNzia"
      },
      "source": [
        "## Дополнительные материалы и литература"
      ]
    },
    {
      "cell_type": "markdown",
      "metadata": {
        "id": "YWhDk5dJN8NC"
      },
      "source": [
        "\n",
        "\n",
        "*   Саммерфилд М., \n",
        "«Программирование на Python 3. Подробное руководство» — Пер. с англ. — СПб.: Символ-Плюс, 2009. - 608 с, ил., ISBN: 978-5-93286-161-5 С. 68.\n",
        "*   https://habr.com/ru/post/450474/\n",
        "*   https://tproger.ru/translations/python-data-types/\n",
        "\n"
      ]
    }
  ]
}