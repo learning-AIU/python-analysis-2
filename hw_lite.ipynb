{
 "cells": [
  {
   "cell_type": "markdown",
   "metadata": {
    "id": "gMwyKhlQJ1mf"
   },
   "source": [
    "## Задание 1"
   ]
  },
  {
   "cell_type": "markdown",
   "metadata": {
    "id": "Owu684lKKrjJ"
   },
   "source": [
    "**Условие:** \n",
    "Создайте кортеж из ```10```  произвольных значений. С помощью операции среза выведите только элементы с четными индексами."
   ]
  },
  {
   "cell_type": "code",
   "execution_count": 1,
   "metadata": {
    "id": "f9_8IGndLeRO"
   },
   "outputs": [
    {
     "name": "stdout",
     "output_type": "stream",
     "text": [
      "(-5, 2, 1, -8, -9)\n"
     ]
    }
   ],
   "source": [
    "from random import randrange as rr\n",
    "\n",
    "result = tuple(rr(-9, 10) for _ in range(10))\n",
    "print(result[::2])"
   ]
  },
  {
   "cell_type": "markdown",
   "metadata": {
    "id": "g5S0h2-wKfGE"
   },
   "source": [
    "## Задание 2"
   ]
  },
  {
   "cell_type": "markdown",
   "metadata": {
    "id": "orX7BUzcPKKf"
   },
   "source": [
    "**Условие:** \n",
    "Создайте список из ```10``` элементов, которые могут быть только ```0``` или ```1```. Примените к полученному списку операцию ```set()```. "
   ]
  },
  {
   "cell_type": "code",
   "execution_count": 2,
   "metadata": {
    "id": "iiWu4IpuKfxV"
   },
   "outputs": [
    {
     "name": "stdout",
     "output_type": "stream",
     "text": [
      "{0, 1}\n"
     ]
    }
   ],
   "source": [
    "from random import choice\n",
    "\n",
    "result = [choice([0, 1]) for _ in range(10)]\n",
    "print(set(result))"
   ]
  },
  {
   "cell_type": "markdown",
   "metadata": {
    "id": "tq0Fcrg1KfXQ"
   },
   "source": [
    "## Задание 3"
   ]
  },
  {
   "cell_type": "markdown",
   "metadata": {
    "id": "3xp-jyyHPMIb"
   },
   "source": [
    "**Условие:** \n",
    "Создайте словарь из ```5``` сотрудников, где ключ - это имя сотрудника, а значение - его заработная плата. Добавьте в него несколько сотрудников. В цикле проиндексируйте зарплату всем сотрудникам на ```10%```.\n"
   ]
  },
  {
   "cell_type": "code",
   "execution_count": 4,
   "metadata": {
    "id": "8q8-Ufv3B0qz"
   },
   "outputs": [
    {
     "name": "stdout",
     "output_type": "stream",
     "text": [
      "{'Айрат': Decimal('8219.000'),\n",
      " 'Дмитрий': Decimal('6543.000'),\n",
      " 'Игорь': Decimal('5805.000'),\n",
      " 'Олег': Decimal('11280.000'),\n",
      " 'Стефан': Decimal('9070.000')}\n"
     ]
    }
   ],
   "source": [
    "from decimal import Decimal as dec\n",
    "from pprint import pprint\n",
    "\n",
    "employees = {\n",
    "    'Дмитрий': dec('65430.00'),\n",
    "    'Олег': dec('112800.00'),\n",
    "    'Игорь': dec('58050.00'),\n",
    "    'Айрат': dec('82190.00'),\n",
    "    'Стефан': dec('90700.00'),\n",
    "}\n",
    "\n",
    "for name in employees:\n",
    "    employees[name] *= dec('0.1')\n",
    "\n",
    "pprint(employees)"
   ]
  }
 ],
 "metadata": {
  "colab": {
   "provenance": []
  },
  "kernelspec": {
   "display_name": "Python 3 (ipykernel)",
   "language": "python",
   "name": "python3"
  },
  "language_info": {
   "codemirror_mode": {
    "name": "ipython",
    "version": 3
   },
   "file_extension": ".py",
   "mimetype": "text/x-python",
   "name": "python",
   "nbconvert_exporter": "python",
   "pygments_lexer": "ipython3",
   "version": "3.11.2"
  }
 },
 "nbformat": 4,
 "nbformat_minor": 1
}
