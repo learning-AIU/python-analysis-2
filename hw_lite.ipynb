{
  "nbformat": 4,
  "nbformat_minor": 0,
  "metadata": {
    "colab": {
      "provenance": []
    },
    "kernelspec": {
      "name": "python3",
      "display_name": "Python 3"
    }
  },
  "cells": [
    {
      "cell_type": "markdown",
      "metadata": {
        "id": "gMwyKhlQJ1mf"
      },
      "source": [
        "## Задание 1"
      ]
    },
    {
      "cell_type": "markdown",
      "metadata": {
        "id": "Owu684lKKrjJ"
      },
      "source": [
        "**Условие:** \n",
        "Создайте кортеж из ```10```  произвольных значений. С помощью операции среза выведите только элементы с четными индексами."
      ]
    },
    {
      "cell_type": "code",
      "metadata": {
        "id": "f9_8IGndLeRO"
      },
      "source": [
        "# Ваше решение"
      ],
      "execution_count": null,
      "outputs": []
    },
    {
      "cell_type": "markdown",
      "metadata": {
        "id": "g5S0h2-wKfGE"
      },
      "source": [
        "## Задание 2"
      ]
    },
    {
      "cell_type": "markdown",
      "metadata": {
        "id": "orX7BUzcPKKf"
      },
      "source": [
        "**Условие:** \n",
        "Создайте список из ```10``` элементов, которые могут быть только ```0``` или ```1```. Примените к полученному списку операцию ```set()```. "
      ]
    },
    {
      "cell_type": "code",
      "metadata": {
        "id": "iiWu4IpuKfxV"
      },
      "source": [
        "# Ваше решение"
      ],
      "execution_count": null,
      "outputs": []
    },
    {
      "cell_type": "markdown",
      "metadata": {
        "id": "tq0Fcrg1KfXQ"
      },
      "source": [
        "## Задание 3"
      ]
    },
    {
      "cell_type": "markdown",
      "metadata": {
        "id": "3xp-jyyHPMIb"
      },
      "source": [
        "**Условие:** \n",
        "Создайте словарь из ```5``` сотрудников, где ключ - это имя сотрудника, а значение - его заработная плата. Добавьте в него несколько сотрудников. В цикле проиндексируйте зарплату всем сотрудникам на ```10%```.\n"
      ]
    },
    {
      "cell_type": "code",
      "metadata": {
        "id": "8q8-Ufv3B0qz"
      },
      "source": [
        "# Ваше решение"
      ],
      "execution_count": null,
      "outputs": []
    }
  ]
}