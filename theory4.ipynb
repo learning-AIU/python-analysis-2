{
  "nbformat": 4,
  "nbformat_minor": 0,
  "metadata": {
    "colab": {
      "provenance": []
    },
    "kernelspec": {
      "name": "python3",
      "display_name": "Python 3"
    }
  },
  "cells": [
    {
      "cell_type": "markdown",
      "metadata": {
        "id": "moIM-S1g7SKx"
      },
      "source": [
        "# Курс «Python для анализа данных»\n",
        "\n",
        "---\n",
        "#2.4 Управляющие структуры. Условные ветвления и циклы"
      ]
    },
    {
      "cell_type": "markdown",
      "metadata": {
        "id": "QZ1Arpnj7p_N"
      },
      "source": [
        "## Где мы сейчас?\n"
      ]
    },
    {
      "cell_type": "markdown",
      "metadata": {
        "id": "J9A06fP5j1vS"
      },
      "source": [
        "<html>\n",
        " <head>\n",
        "  <meta charset=\"utf-8\">\n",
        " </head>\n",
        " <body>\n",
        "  <ul>\n",
        "    <li>1. Введение в анализ данных и разработку на языке Python </li> <!-2.1->\n",
        "    <li>2. <strong>Основы языка</strong> <i><- В этой главе!</i>\n",
        "     <ul>\n",
        "      <li>2.1 — 2.2</li>\n",
        "      <li>2.3 Типы коллекций. Последовательности, множества, отображения</li>\n",
        "      <li><strong>2.4 Управляющие структуры. Условные ветвления и циклы </strong> <i><- В этой части!</i></li>\n",
        "      <li>2.5 Функции</li>\n",
        "      <li>2.6 — 2.9</li>\n",
        "     </ul>\n",
        "    </li>   \n",
        "  </ul>\n",
        " </body>\n",
        "</html>"
      ]
    },
    {
      "cell_type": "markdown",
      "metadata": {
        "id": "z1oJmp_4Po8K"
      },
      "source": [
        "## Краткий обзор занятия\n"
      ]
    },
    {
      "cell_type": "markdown",
      "metadata": {
        "id": "7X4Wlpraj7Yw"
      },
      "source": [
        "Рассматриваем самые используемые конструкции практически любого языка программирования — условных операторов и циклы."
      ]
    },
    {
      "cell_type": "code",
      "metadata": {
        "id": "3971Af4Kk06_"
      },
      "source": [],
      "execution_count": null,
      "outputs": []
    },
    {
      "cell_type": "markdown",
      "metadata": {
        "id": "NhfVXiTGAkND"
      },
      "source": [
        "## Ключевые слова, понятия и выражения\n",
        "\n",
        "\n",
        "\n",
        "\n"
      ]
    },
    {
      "cell_type": "markdown",
      "metadata": {
        "id": "ixnuL5V2rZtz"
      },
      "source": [
        "*   условный оператор;\n",
        "*   цикл;\n",
        "*   ```if```, ```elif```,```else```;\n",
        "*   ```for ... in ...```;\n",
        "*   ```while```."
      ]
    },
    {
      "cell_type": "markdown",
      "metadata": {
        "id": "2lFBeeLHjcc7"
      },
      "source": [
        "## Материал"
      ]
    },
    {
      "cell_type": "markdown",
      "metadata": {
        "id": "-5f-yCz4r3V1"
      },
      "source": [
        "### Условные операторы"
      ]
    },
    {
      "cell_type": "markdown",
      "metadata": {
        "id": "wAcRASLcs24w"
      },
      "source": [
        "Общий вид условного ветвления в языке Python:\n",
        "\n",
        "\n",
        "```\n",
        "if boolean_expression1:\n",
        "  suitel\n",
        "elif boolean_expression2:\n",
        "  suite2\n",
        "...\n",
        "elif boolean_expressionN:\n",
        "  suiteN\n",
        "else:\n",
        "  else_suite\n",
        "```\n",
        "Эта конструкция может содержать ```0``` и более ответвлений ```elif```. Конструкция ```else``` также необязательна.\n",
        "\n",
        "```if``` — если произойдет...\n",
        "\n",
        "```elif``` — иначе в случае...\n",
        "\n",
        "```else``` — если ни один альтернативный случай не учтен...\n",
        "\n",
        "Ранее мы с вами уже немного говорили об условных конструкциях. Условия выполняются по порядку сверху-вниз и выполняются команды первого блока, логическое выражение в котором будет истинно. Если логические выражения во всех блоках ложны, выполнится код, который стоит после `else`.\n"
      ]
    },
    {
      "cell_type": "markdown",
      "metadata": {
        "id": "NQ_rdsKESSCi"
      },
      "source": [
        "Напишем программу, в которой пользователь вводит число, а мы будем выводить: больше ли или меньше нуля введенное число."
      ]
    },
    {
      "cell_type": "code",
      "metadata": {
        "id": "i-ss9E1DaswF",
        "colab": {
          "base_uri": "https://localhost:8080/",
          "height": 53
        },
        "outputId": "1de24654-454a-4730-851e-88c577bfdc60"
      },
      "source": [
        "# Простой пример\n",
        "a = int(input('Enter an integer number:'))\n",
        "\n",
        "if a > 0:\n",
        "  print('a > 0')\n",
        "else:\n",
        "  print('a <= 0')"
      ],
      "execution_count": null,
      "outputs": [
        {
          "output_type": "stream",
          "text": [
            "Enter an integer number:-1\n",
            "a <= 0\n"
          ],
          "name": "stdout"
        }
      ]
    },
    {
      "cell_type": "markdown",
      "metadata": {
        "id": "79sA4IbjSjoq"
      },
      "source": [
        "Но если нам необходимо разделить на большее количество диапазонов, не получится разделить лишь одним условием. Для этого нам на помощь приходит блок `elif`:"
      ]
    },
    {
      "cell_type": "code",
      "metadata": {
        "id": "RNWglZw7bJfS",
        "colab": {
          "base_uri": "https://localhost:8080/",
          "height": 53
        },
        "outputId": "9e9b1a43-e941-4a01-9ebd-56d1acdae423"
      },
      "source": [
        "# Пример ветвления\n",
        "a = int(input('Enter an integer number:'))\n",
        "\n",
        "if a < 10:\n",
        "  print('a < 10')\n",
        "elif a < 15:\n",
        "  print('10 <= a < 15')\n",
        "elif a < 20:\n",
        "  print('15 <= a < 20')\n",
        "else:\n",
        "  print('a >= 20')"
      ],
      "execution_count": null,
      "outputs": [
        {
          "output_type": "stream",
          "text": [
            "Enter an integer number:12\n",
            "10 <= a < 15\n"
          ],
          "name": "stdout"
        }
      ]
    },
    {
      "cell_type": "markdown",
      "metadata": {
        "id": "QaeG20eiTW0R"
      },
      "source": [
        "Очень важно, в каком порядке мы указываем условия. В примере ниже мы делим числа по диапазонам до 10, до 15, до 20 и больше 20. При этом условие для проверки до 20 стоит раньше, чем числа до 15. Но числа до 15 одновременно являются числами до 20, поэтому условие будет выполняться, и числа попадут не в тот диапазон."
      ]
    },
    {
      "cell_type": "code",
      "metadata": {
        "id": "mvQlOSRmb3zW",
        "colab": {
          "base_uri": "https://localhost:8080/",
          "height": 53
        },
        "outputId": "9f852836-6518-4656-9fe8-dfac7c3a7ba7"
      },
      "source": [
        "# Пример важности порядка ветвления\n",
        "a = int(input('Enter an integer number:'))\n",
        "\n",
        "if a < 10:\n",
        "  print('a < 10')\n",
        "elif a < 20:\n",
        "  print('15 <= a < 20')\n",
        "elif a < 15:\n",
        "  print('10 <= a < 15')\n",
        "else:\n",
        "  print('a >= 20')"
      ],
      "execution_count": null,
      "outputs": [
        {
          "output_type": "stream",
          "text": [
            "Enter an integer number:12\n",
            "15 <= a < 20\n"
          ],
          "name": "stdout"
        }
      ]
    },
    {
      "cell_type": "markdown",
      "metadata": {
        "id": "DzUwT4uGUB0L"
      },
      "source": [
        "Мы можем комбинировать условия с помощью операторов `and` и `or`, о которых говорили на прошлом занятии:"
      ]
    },
    {
      "cell_type": "code",
      "metadata": {
        "id": "VXz_G5ZWcZhK",
        "colab": {
          "base_uri": "https://localhost:8080/",
          "height": 53
        },
        "outputId": "eb2ba3eb-2c2a-4e54-d085-c9b37564b298"
      },
      "source": [
        "# Несколько условий\n",
        "a = int(input('Enter an integer number:'))\n",
        "\n",
        "if a%2==0 and a%3==0:\n",
        "  print('6|a')\n",
        "elif a%2==0 and a%3!=0:\n",
        "  print('2|a')\n",
        "elif a%2!=0 and a%3==0:\n",
        "  print('3|a')\n",
        "else:\n",
        "  print('2,3,6 not | a')"
      ],
      "execution_count": null,
      "outputs": [
        {
          "output_type": "stream",
          "text": [
            "Enter an integer number:15\n",
            "3|a\n"
          ],
          "name": "stdout"
        }
      ]
    },
    {
      "cell_type": "markdown",
      "metadata": {
        "id": "shZFDuXsUNuC"
      },
      "source": [
        "Еще есть короткая запись конструкции условия. На первом месте ставим команду, которую мы хотим выполнить при истинном условии, затем пишем само условие вместе с `else` и в конце команду, которая выполнится при ложном условии."
      ]
    },
    {
      "cell_type": "code",
      "metadata": {
        "id": "pIvwqV7edHSG",
        "colab": {
          "base_uri": "https://localhost:8080/",
          "height": 53
        },
        "outputId": "aa9c6075-f51f-4622-914b-8f05cd29a51b"
      },
      "source": [
        "# Короткая версия условного ветвления\n",
        "a = int(input('Enter an integer number:'))\n",
        "print('2 not | a') if a%2 == 1 else print('2|a')"
      ],
      "execution_count": null,
      "outputs": [
        {
          "output_type": "stream",
          "text": [
            "Enter an integer number:6\n",
            "2|a\n"
          ],
          "name": "stdout"
        }
      ]
    },
    {
      "cell_type": "markdown",
      "metadata": {
        "id": "ExAvpOBXsjT0"
      },
      "source": [
        "### Циклы\n"
      ]
    },
    {
      "cell_type": "markdown",
      "metadata": {
        "id": "p-p6Q-J7VuDE"
      },
      "source": [
        "Циклы применяются тогда, когда мы хотим повторить одинаковый блок или перебрать элементы последовательности. Первый тип цикла — `while`. Для его реализации сначала пишем ключевое слово `while`, затем ставим логическое выражение и, как в конструкции условия, пишем блок команд, который будет выполняться до тех пор, пока логическое выражение истинно."
      ]
    },
    {
      "cell_type": "markdown",
      "metadata": {
        "id": "P1dz1CG80MuC"
      },
      "source": [
        "Общая конструкция цикла ```while```:\n",
        "\n",
        "\n",
        "```\n",
        "while boolean_expression:\n",
        "  while_suite\n",
        "else:\n",
        "  else_suite\n",
        "```\n",
        "Предложение ```else``` необязательно. Оно выполняется, когда выражение `boolean_expression` становится ложным. Если же выполнение прерывается инструкциями ```return``` или ```break```, то блок ```else``` не выполняется.\n",
        "\n"
      ]
    },
    {
      "cell_type": "markdown",
      "metadata": {
        "id": "t1is3ei6V4Qc"
      },
      "source": [
        "Например, мы можем пройтись по всем индексам списка и посмотреть, равно ли значение с этим индексом целевой переменной. В начале `index` равно 0. С помощью условия мы проверяем, равен ли элемент с этим индексом целевой переменной. Если да, то мы прерываем цикл, а код, который стоит после второго `else` не будет выполнен. Если условие неверно, то мы увеличиваем индекс на 1 и проверяем следующее число. Делаем это до тех пор, пока не дойдем до последнего индекса."
      ]
    },
    {
      "cell_type": "code",
      "metadata": {
        "id": "OzyFJWhOeggS",
        "colab": {
          "base_uri": "https://localhost:8080/"
        },
        "outputId": "f89b389f-b59f-4b9e-f4b6-fff73b0d6f3c"
      },
      "source": [
        "# Поиск элемент в list\n",
        "my_list=[1,2,'c',4,'a']\n",
        "\n",
        "target = 4\n",
        "\n",
        "index = 0\n",
        "while index < len(my_list):\n",
        "  print(index)\n",
        "  if my_list[index] == target:\n",
        "    break\n",
        "  else:\n",
        "    index += 1\n",
        "else:\n",
        "  index = -1\n",
        "\n",
        "print(index)"
      ],
      "execution_count": null,
      "outputs": [
        {
          "output_type": "stream",
          "name": "stdout",
          "text": [
            "0\n",
            "1\n",
            "2\n",
            "3\n",
            "3\n"
          ]
        }
      ]
    },
    {
      "cell_type": "markdown",
      "metadata": {
        "id": "oxTLLfFlWOvk"
      },
      "source": [
        "`else` — необязательный блок."
      ]
    },
    {
      "cell_type": "code",
      "metadata": {
        "id": "0W9s5elRfwFx",
        "colab": {
          "base_uri": "https://localhost:8080/",
          "height": 35
        },
        "outputId": "ea69c1d0-fe34-4956-88b9-bb4a3c3a27a3"
      },
      "source": [
        "# Пример без else — вывод чисел от 1 до 35, кратных 5\n",
        "i = 1\n",
        "while i <= 35:\n",
        "  if not i%5:\n",
        "    print(i, end=' ')\n",
        "  i += 1"
      ],
      "execution_count": null,
      "outputs": [
        {
          "output_type": "stream",
          "text": [
            "5 10 15 20 25 30 35 "
          ],
          "name": "stdout"
        }
      ]
    },
    {
      "cell_type": "markdown",
      "metadata": {
        "id": "fm0auiWsW7MS"
      },
      "source": [
        "Следующая конструкция — `for`. Она предназначена для перебора значений в коллекции. При этом коллекция может быть абсолютно любой. Например, кортежем или списком, с которыми мы познакомились выше. Или мы можем сгенерировать последовательность чисел с помощью `range`, который принимает на вход три параметра:\n",
        "- первый — начальное значение генерируемой последовательности;\n",
        "- второй — конечное значение генерируемой последовательности;\n",
        "- третий — шаг, с которым будут изменяться числа последовательности."
      ]
    },
    {
      "cell_type": "markdown",
      "metadata": {
        "id": "jTu0QiZ8nxBv"
      },
      "source": [
        "Общая конструкция цикла ```for ... in ...```\n",
        "\n",
        "\n",
        "```\n",
        "for expression in iterable:\n",
        "  for_suite\n",
        "else:\n",
        "  else_suite \n",
        "```\n",
        "\n",
        "```expression``` — переменная или последовательность переменных.\n",
        "\n",
        "```iterable``` — итерируемый объект (последовательность `range`, списки, кортежи, множества, словари, строки и т. д).\n"
      ]
    },
    {
      "cell_type": "code",
      "metadata": {
        "id": "KDPAs53Ngjdc",
        "colab": {
          "base_uri": "https://localhost:8080/",
          "height": 53
        },
        "outputId": "07218101-b18e-4e3c-f432-40fd6185a0b2"
      },
      "source": [
        "# Простой пример \n",
        "for i in my_list:\n",
        "  print(i, end=' ')\n",
        "\n",
        "print()\n",
        "\n",
        "for i in range(len(my_list)):\n",
        "  print(my_list[i], end=' ')"
      ],
      "execution_count": null,
      "outputs": [
        {
          "output_type": "stream",
          "text": [
            "1 2 c 4 a \n",
            "1 2 c 4 a "
          ],
          "name": "stdout"
        }
      ]
    },
    {
      "cell_type": "markdown",
      "metadata": {
        "id": "CjzKy6sLXhif"
      },
      "source": [
        "Еще один способ перебрать элементы коллекции — использовать `enumerate`. С помощью нее мы можем  одновременно пройтись по номеру итерации и значению элемента.\n"
      ]
    },
    {
      "cell_type": "code",
      "metadata": {
        "id": "8w2j2kKKhJ-J",
        "colab": {
          "base_uri": "https://localhost:8080/",
          "height": 108
        },
        "outputId": "e5333cd3-74c9-43b5-b6d7-c4ca1d5465fd"
      },
      "source": [
        "# Выведем еще и индексы\n",
        "for index, i in enumerate(my_list):\n",
        "  print(index, i)"
      ],
      "execution_count": null,
      "outputs": [
        {
          "output_type": "stream",
          "text": [
            "0 1\n",
            "1 2\n",
            "2 c\n",
            "3 4\n",
            "4 a\n"
          ],
          "name": "stdout"
        }
      ]
    },
    {
      "cell_type": "markdown",
      "metadata": {
        "id": "5BOT8LoaYr-q"
      },
      "source": [
        "Но чаще всего встречается `range`. С помощью него мы можем как просто сгенерировать последовательность чисел, так и последовательность индексов коллекции."
      ]
    },
    {
      "cell_type": "code",
      "metadata": {
        "id": "5H89v4MIhoEz",
        "colab": {
          "base_uri": "https://localhost:8080/",
          "height": 35
        },
        "outputId": "c2668fd3-e735-47dc-84b0-6f787dc2c783"
      },
      "source": [
        "# Наиболее распространенный способ применения цикла for\n",
        "for i in range(10):\n",
        "  print(i, end=' ')"
      ],
      "execution_count": null,
      "outputs": [
        {
          "output_type": "stream",
          "text": [
            "0 1 2 3 4 5 6 7 8 9 "
          ],
          "name": "stdout"
        }
      ]
    },
    {
      "cell_type": "markdown",
      "metadata": {
        "id": "zrFGqdbGZLim"
      },
      "source": [
        "`continue` прерывает итерацию цикла. Можно заметить, что когда мы дошли до 2, цикл прервался, так и не дойдя до вывода значения на экран. Но перешел к следующей итерации и продолжил выводить значения, которые идут после него."
      ]
    },
    {
      "cell_type": "code",
      "metadata": {
        "id": "uP54vc3piM8h",
        "colab": {
          "base_uri": "https://localhost:8080/",
          "height": 90
        },
        "outputId": "a179f607-3520-468e-ecd6-1a2199a549ab"
      },
      "source": [
        "# Обходим наш лист, пропуская элемент с индексом 2\n",
        "for i in range(len(my_list)):\n",
        "  if i == 2:\n",
        "    continue\n",
        "  print(i, my_list[i])"
      ],
      "execution_count": null,
      "outputs": [
        {
          "output_type": "stream",
          "text": [
            "0 1\n",
            "1 2\n",
            "3 4\n",
            "4 a\n"
          ],
          "name": "stdout"
        }
      ]
    },
    {
      "cell_type": "markdown",
      "metadata": {
        "id": "LAGCNUCYZQ4e"
      },
      "source": [
        "`break` полностью прерывает цикл. Заменим в предыдущем примере `continue` на `break`. Теперь на значении 2 цикл полностью прерывается, и остальные числа не выводятся на экран."
      ]
    },
    {
      "cell_type": "code",
      "metadata": {
        "id": "Yct3Ggnhi76S",
        "colab": {
          "base_uri": "https://localhost:8080/",
          "height": 53
        },
        "outputId": "1a9c7345-cb4a-4991-8946-34ccefb1c951"
      },
      "source": [
        "# Обходим наш лист до элемента с индексом 2\n",
        "for i in range(len(my_list)):\n",
        "  if i == 2:\n",
        "    break\n",
        "  print(i, my_list[i])"
      ],
      "execution_count": null,
      "outputs": [
        {
          "output_type": "stream",
          "text": [
            "0 1\n",
            "1 2\n"
          ],
          "name": "stdout"
        }
      ]
    },
    {
      "cell_type": "markdown",
      "metadata": {
        "id": "L47TRtr-fAyf"
      },
      "source": [
        "## За рамками материала"
      ]
    },
    {
      "cell_type": "markdown",
      "metadata": {
        "id": "Or_p7cu-t1Gq"
      },
      "source": [
        "*   сложные примеры применения циклов и условных операторов"
      ]
    },
    {
      "cell_type": "markdown",
      "metadata": {
        "id": "5F_hHKVTNzia"
      },
      "source": [
        "## Дополнительные материалы и литература"
      ]
    },
    {
      "cell_type": "markdown",
      "metadata": {
        "id": "YWhDk5dJN8NC"
      },
      "source": [
        "\n",
        "\n",
        "*   Саммерфилд М., «Программирование на Python 3. Подробное руководство» — Пер. с англ. — СПб.: Символ-Плюс, 2009. — 608 с, ил., ISBN: 978-5-93286-161-5 С. 188.\n",
        "*   https://devpractice.ru/python-lesson-5-if-while-for-operators/\n",
        "\n"
      ]
    },
    {
      "cell_type": "code",
      "metadata": {
        "id": "K17e_HuhXUFB"
      },
      "source": [],
      "execution_count": null,
      "outputs": []
    }
  ]
}